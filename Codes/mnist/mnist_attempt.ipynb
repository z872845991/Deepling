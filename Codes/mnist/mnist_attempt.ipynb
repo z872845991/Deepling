{
  "nbformat": 4,
  "nbformat_minor": 0,
  "metadata": {
    "colab": {
      "name": "Untitled0.ipynb",
      "provenance": [],
      "collapsed_sections": [
        "6MOMYp4kF3xk"
      ],
      "toc_visible": true
    },
    "kernelspec": {
      "name": "python3",
      "display_name": "Python 3"
    },
    "accelerator": "GPU",
    "widgets": {
      "application/vnd.jupyter.widget-state+json": {
        "1b77a8e169144731878155671b255ddf": {
          "model_module": "@jupyter-widgets/controls",
          "model_name": "HBoxModel",
          "state": {
            "_view_name": "HBoxView",
            "_dom_classes": [],
            "_model_name": "HBoxModel",
            "_view_module": "@jupyter-widgets/controls",
            "_model_module_version": "1.5.0",
            "_view_count": null,
            "_view_module_version": "1.5.0",
            "box_style": "",
            "layout": "IPY_MODEL_9b51e12015e04e96a9585bc974f53b9d",
            "_model_module": "@jupyter-widgets/controls",
            "children": [
              "IPY_MODEL_eb28ffb299cc4944b25070f0aab047d0",
              "IPY_MODEL_5ed63c430cbb4ea79d13163f1ead0651"
            ]
          }
        },
        "9b51e12015e04e96a9585bc974f53b9d": {
          "model_module": "@jupyter-widgets/base",
          "model_name": "LayoutModel",
          "state": {
            "_view_name": "LayoutView",
            "grid_template_rows": null,
            "right": null,
            "justify_content": null,
            "_view_module": "@jupyter-widgets/base",
            "overflow": null,
            "_model_module_version": "1.2.0",
            "_view_count": null,
            "flex_flow": null,
            "width": null,
            "min_width": null,
            "border": null,
            "align_items": null,
            "bottom": null,
            "_model_module": "@jupyter-widgets/base",
            "top": null,
            "grid_column": null,
            "overflow_y": null,
            "overflow_x": null,
            "grid_auto_flow": null,
            "grid_area": null,
            "grid_template_columns": null,
            "flex": null,
            "_model_name": "LayoutModel",
            "justify_items": null,
            "grid_row": null,
            "max_height": null,
            "align_content": null,
            "visibility": null,
            "align_self": null,
            "height": null,
            "min_height": null,
            "padding": null,
            "grid_auto_rows": null,
            "grid_gap": null,
            "max_width": null,
            "order": null,
            "_view_module_version": "1.2.0",
            "grid_template_areas": null,
            "object_position": null,
            "object_fit": null,
            "grid_auto_columns": null,
            "margin": null,
            "display": null,
            "left": null
          }
        },
        "eb28ffb299cc4944b25070f0aab047d0": {
          "model_module": "@jupyter-widgets/controls",
          "model_name": "FloatProgressModel",
          "state": {
            "_view_name": "ProgressView",
            "style": "IPY_MODEL_9eff74ed77544e6db7de5ec2178f844e",
            "_dom_classes": [],
            "description": "",
            "_model_name": "FloatProgressModel",
            "bar_style": "info",
            "max": 1,
            "_view_module": "@jupyter-widgets/controls",
            "_model_module_version": "1.5.0",
            "value": 1,
            "_view_count": null,
            "_view_module_version": "1.5.0",
            "orientation": "horizontal",
            "min": 0,
            "description_tooltip": null,
            "_model_module": "@jupyter-widgets/controls",
            "layout": "IPY_MODEL_aae8f515ca0d405c9664620890f98d56"
          }
        },
        "5ed63c430cbb4ea79d13163f1ead0651": {
          "model_module": "@jupyter-widgets/controls",
          "model_name": "HTMLModel",
          "state": {
            "_view_name": "HTMLView",
            "style": "IPY_MODEL_e7a4567f052648848c5dda042c7f57c8",
            "_dom_classes": [],
            "description": "",
            "_model_name": "HTMLModel",
            "placeholder": "​",
            "_view_module": "@jupyter-widgets/controls",
            "_model_module_version": "1.5.0",
            "value": " 9920512/? [00:20&lt;00:00, 196256.29it/s]",
            "_view_count": null,
            "_view_module_version": "1.5.0",
            "description_tooltip": null,
            "_model_module": "@jupyter-widgets/controls",
            "layout": "IPY_MODEL_b1f70057e7a4447082f7da734f826576"
          }
        },
        "9eff74ed77544e6db7de5ec2178f844e": {
          "model_module": "@jupyter-widgets/controls",
          "model_name": "ProgressStyleModel",
          "state": {
            "_view_name": "StyleView",
            "_model_name": "ProgressStyleModel",
            "description_width": "initial",
            "_view_module": "@jupyter-widgets/base",
            "_model_module_version": "1.5.0",
            "_view_count": null,
            "_view_module_version": "1.2.0",
            "bar_color": null,
            "_model_module": "@jupyter-widgets/controls"
          }
        },
        "aae8f515ca0d405c9664620890f98d56": {
          "model_module": "@jupyter-widgets/base",
          "model_name": "LayoutModel",
          "state": {
            "_view_name": "LayoutView",
            "grid_template_rows": null,
            "right": null,
            "justify_content": null,
            "_view_module": "@jupyter-widgets/base",
            "overflow": null,
            "_model_module_version": "1.2.0",
            "_view_count": null,
            "flex_flow": null,
            "width": null,
            "min_width": null,
            "border": null,
            "align_items": null,
            "bottom": null,
            "_model_module": "@jupyter-widgets/base",
            "top": null,
            "grid_column": null,
            "overflow_y": null,
            "overflow_x": null,
            "grid_auto_flow": null,
            "grid_area": null,
            "grid_template_columns": null,
            "flex": null,
            "_model_name": "LayoutModel",
            "justify_items": null,
            "grid_row": null,
            "max_height": null,
            "align_content": null,
            "visibility": null,
            "align_self": null,
            "height": null,
            "min_height": null,
            "padding": null,
            "grid_auto_rows": null,
            "grid_gap": null,
            "max_width": null,
            "order": null,
            "_view_module_version": "1.2.0",
            "grid_template_areas": null,
            "object_position": null,
            "object_fit": null,
            "grid_auto_columns": null,
            "margin": null,
            "display": null,
            "left": null
          }
        },
        "e7a4567f052648848c5dda042c7f57c8": {
          "model_module": "@jupyter-widgets/controls",
          "model_name": "DescriptionStyleModel",
          "state": {
            "_view_name": "StyleView",
            "_model_name": "DescriptionStyleModel",
            "description_width": "",
            "_view_module": "@jupyter-widgets/base",
            "_model_module_version": "1.5.0",
            "_view_count": null,
            "_view_module_version": "1.2.0",
            "_model_module": "@jupyter-widgets/controls"
          }
        },
        "b1f70057e7a4447082f7da734f826576": {
          "model_module": "@jupyter-widgets/base",
          "model_name": "LayoutModel",
          "state": {
            "_view_name": "LayoutView",
            "grid_template_rows": null,
            "right": null,
            "justify_content": null,
            "_view_module": "@jupyter-widgets/base",
            "overflow": null,
            "_model_module_version": "1.2.0",
            "_view_count": null,
            "flex_flow": null,
            "width": null,
            "min_width": null,
            "border": null,
            "align_items": null,
            "bottom": null,
            "_model_module": "@jupyter-widgets/base",
            "top": null,
            "grid_column": null,
            "overflow_y": null,
            "overflow_x": null,
            "grid_auto_flow": null,
            "grid_area": null,
            "grid_template_columns": null,
            "flex": null,
            "_model_name": "LayoutModel",
            "justify_items": null,
            "grid_row": null,
            "max_height": null,
            "align_content": null,
            "visibility": null,
            "align_self": null,
            "height": null,
            "min_height": null,
            "padding": null,
            "grid_auto_rows": null,
            "grid_gap": null,
            "max_width": null,
            "order": null,
            "_view_module_version": "1.2.0",
            "grid_template_areas": null,
            "object_position": null,
            "object_fit": null,
            "grid_auto_columns": null,
            "margin": null,
            "display": null,
            "left": null
          }
        },
        "e2ec9131fed74293a0b4e256540fb6fa": {
          "model_module": "@jupyter-widgets/controls",
          "model_name": "HBoxModel",
          "state": {
            "_view_name": "HBoxView",
            "_dom_classes": [],
            "_model_name": "HBoxModel",
            "_view_module": "@jupyter-widgets/controls",
            "_model_module_version": "1.5.0",
            "_view_count": null,
            "_view_module_version": "1.5.0",
            "box_style": "",
            "layout": "IPY_MODEL_2ab2c34804f247b4811f4cce34f1af05",
            "_model_module": "@jupyter-widgets/controls",
            "children": [
              "IPY_MODEL_32f874e5af164fc7a8cda586850f8b7a",
              "IPY_MODEL_fa08be5c91324db89d214ae5341ce7ed"
            ]
          }
        },
        "2ab2c34804f247b4811f4cce34f1af05": {
          "model_module": "@jupyter-widgets/base",
          "model_name": "LayoutModel",
          "state": {
            "_view_name": "LayoutView",
            "grid_template_rows": null,
            "right": null,
            "justify_content": null,
            "_view_module": "@jupyter-widgets/base",
            "overflow": null,
            "_model_module_version": "1.2.0",
            "_view_count": null,
            "flex_flow": null,
            "width": null,
            "min_width": null,
            "border": null,
            "align_items": null,
            "bottom": null,
            "_model_module": "@jupyter-widgets/base",
            "top": null,
            "grid_column": null,
            "overflow_y": null,
            "overflow_x": null,
            "grid_auto_flow": null,
            "grid_area": null,
            "grid_template_columns": null,
            "flex": null,
            "_model_name": "LayoutModel",
            "justify_items": null,
            "grid_row": null,
            "max_height": null,
            "align_content": null,
            "visibility": null,
            "align_self": null,
            "height": null,
            "min_height": null,
            "padding": null,
            "grid_auto_rows": null,
            "grid_gap": null,
            "max_width": null,
            "order": null,
            "_view_module_version": "1.2.0",
            "grid_template_areas": null,
            "object_position": null,
            "object_fit": null,
            "grid_auto_columns": null,
            "margin": null,
            "display": null,
            "left": null
          }
        },
        "32f874e5af164fc7a8cda586850f8b7a": {
          "model_module": "@jupyter-widgets/controls",
          "model_name": "FloatProgressModel",
          "state": {
            "_view_name": "ProgressView",
            "style": "IPY_MODEL_a8a093c3e59445e0b7b44d47f2c94fb5",
            "_dom_classes": [],
            "description": "",
            "_model_name": "FloatProgressModel",
            "bar_style": "info",
            "max": 1,
            "_view_module": "@jupyter-widgets/controls",
            "_model_module_version": "1.5.0",
            "value": 0,
            "_view_count": null,
            "_view_module_version": "1.5.0",
            "orientation": "horizontal",
            "min": 0,
            "description_tooltip": null,
            "_model_module": "@jupyter-widgets/controls",
            "layout": "IPY_MODEL_5fd265741ddd4b05becb38288877bfec"
          }
        },
        "fa08be5c91324db89d214ae5341ce7ed": {
          "model_module": "@jupyter-widgets/controls",
          "model_name": "HTMLModel",
          "state": {
            "_view_name": "HTMLView",
            "style": "IPY_MODEL_64faaa94d1e544a8ac594a58e11bc9e8",
            "_dom_classes": [],
            "description": "",
            "_model_name": "HTMLModel",
            "placeholder": "​",
            "_view_module": "@jupyter-widgets/controls",
            "_model_module_version": "1.5.0",
            "value": " 0/? [00:00&lt;?, ?it/s]",
            "_view_count": null,
            "_view_module_version": "1.5.0",
            "description_tooltip": null,
            "_model_module": "@jupyter-widgets/controls",
            "layout": "IPY_MODEL_8932ad659a52466cbae6c58ee848ecc5"
          }
        },
        "a8a093c3e59445e0b7b44d47f2c94fb5": {
          "model_module": "@jupyter-widgets/controls",
          "model_name": "ProgressStyleModel",
          "state": {
            "_view_name": "StyleView",
            "_model_name": "ProgressStyleModel",
            "description_width": "initial",
            "_view_module": "@jupyter-widgets/base",
            "_model_module_version": "1.5.0",
            "_view_count": null,
            "_view_module_version": "1.2.0",
            "bar_color": null,
            "_model_module": "@jupyter-widgets/controls"
          }
        },
        "5fd265741ddd4b05becb38288877bfec": {
          "model_module": "@jupyter-widgets/base",
          "model_name": "LayoutModel",
          "state": {
            "_view_name": "LayoutView",
            "grid_template_rows": null,
            "right": null,
            "justify_content": null,
            "_view_module": "@jupyter-widgets/base",
            "overflow": null,
            "_model_module_version": "1.2.0",
            "_view_count": null,
            "flex_flow": null,
            "width": null,
            "min_width": null,
            "border": null,
            "align_items": null,
            "bottom": null,
            "_model_module": "@jupyter-widgets/base",
            "top": null,
            "grid_column": null,
            "overflow_y": null,
            "overflow_x": null,
            "grid_auto_flow": null,
            "grid_area": null,
            "grid_template_columns": null,
            "flex": null,
            "_model_name": "LayoutModel",
            "justify_items": null,
            "grid_row": null,
            "max_height": null,
            "align_content": null,
            "visibility": null,
            "align_self": null,
            "height": null,
            "min_height": null,
            "padding": null,
            "grid_auto_rows": null,
            "grid_gap": null,
            "max_width": null,
            "order": null,
            "_view_module_version": "1.2.0",
            "grid_template_areas": null,
            "object_position": null,
            "object_fit": null,
            "grid_auto_columns": null,
            "margin": null,
            "display": null,
            "left": null
          }
        },
        "64faaa94d1e544a8ac594a58e11bc9e8": {
          "model_module": "@jupyter-widgets/controls",
          "model_name": "DescriptionStyleModel",
          "state": {
            "_view_name": "StyleView",
            "_model_name": "DescriptionStyleModel",
            "description_width": "",
            "_view_module": "@jupyter-widgets/base",
            "_model_module_version": "1.5.0",
            "_view_count": null,
            "_view_module_version": "1.2.0",
            "_model_module": "@jupyter-widgets/controls"
          }
        },
        "8932ad659a52466cbae6c58ee848ecc5": {
          "model_module": "@jupyter-widgets/base",
          "model_name": "LayoutModel",
          "state": {
            "_view_name": "LayoutView",
            "grid_template_rows": null,
            "right": null,
            "justify_content": null,
            "_view_module": "@jupyter-widgets/base",
            "overflow": null,
            "_model_module_version": "1.2.0",
            "_view_count": null,
            "flex_flow": null,
            "width": null,
            "min_width": null,
            "border": null,
            "align_items": null,
            "bottom": null,
            "_model_module": "@jupyter-widgets/base",
            "top": null,
            "grid_column": null,
            "overflow_y": null,
            "overflow_x": null,
            "grid_auto_flow": null,
            "grid_area": null,
            "grid_template_columns": null,
            "flex": null,
            "_model_name": "LayoutModel",
            "justify_items": null,
            "grid_row": null,
            "max_height": null,
            "align_content": null,
            "visibility": null,
            "align_self": null,
            "height": null,
            "min_height": null,
            "padding": null,
            "grid_auto_rows": null,
            "grid_gap": null,
            "max_width": null,
            "order": null,
            "_view_module_version": "1.2.0",
            "grid_template_areas": null,
            "object_position": null,
            "object_fit": null,
            "grid_auto_columns": null,
            "margin": null,
            "display": null,
            "left": null
          }
        },
        "ef0f31eb6a10418e927e10530cd48a5e": {
          "model_module": "@jupyter-widgets/controls",
          "model_name": "HBoxModel",
          "state": {
            "_view_name": "HBoxView",
            "_dom_classes": [],
            "_model_name": "HBoxModel",
            "_view_module": "@jupyter-widgets/controls",
            "_model_module_version": "1.5.0",
            "_view_count": null,
            "_view_module_version": "1.5.0",
            "box_style": "",
            "layout": "IPY_MODEL_159f47fe46504e6aae0ed0cdf5c3820d",
            "_model_module": "@jupyter-widgets/controls",
            "children": [
              "IPY_MODEL_6d57ee40fe2d4cc6a9322ee9a1d2a954",
              "IPY_MODEL_1eae7b9627ff4b9a8a7032995bb1fc13"
            ]
          }
        },
        "159f47fe46504e6aae0ed0cdf5c3820d": {
          "model_module": "@jupyter-widgets/base",
          "model_name": "LayoutModel",
          "state": {
            "_view_name": "LayoutView",
            "grid_template_rows": null,
            "right": null,
            "justify_content": null,
            "_view_module": "@jupyter-widgets/base",
            "overflow": null,
            "_model_module_version": "1.2.0",
            "_view_count": null,
            "flex_flow": null,
            "width": null,
            "min_width": null,
            "border": null,
            "align_items": null,
            "bottom": null,
            "_model_module": "@jupyter-widgets/base",
            "top": null,
            "grid_column": null,
            "overflow_y": null,
            "overflow_x": null,
            "grid_auto_flow": null,
            "grid_area": null,
            "grid_template_columns": null,
            "flex": null,
            "_model_name": "LayoutModel",
            "justify_items": null,
            "grid_row": null,
            "max_height": null,
            "align_content": null,
            "visibility": null,
            "align_self": null,
            "height": null,
            "min_height": null,
            "padding": null,
            "grid_auto_rows": null,
            "grid_gap": null,
            "max_width": null,
            "order": null,
            "_view_module_version": "1.2.0",
            "grid_template_areas": null,
            "object_position": null,
            "object_fit": null,
            "grid_auto_columns": null,
            "margin": null,
            "display": null,
            "left": null
          }
        },
        "6d57ee40fe2d4cc6a9322ee9a1d2a954": {
          "model_module": "@jupyter-widgets/controls",
          "model_name": "FloatProgressModel",
          "state": {
            "_view_name": "ProgressView",
            "style": "IPY_MODEL_966d12b5b2fb4eeab5eee8425346b5ad",
            "_dom_classes": [],
            "description": "",
            "_model_name": "FloatProgressModel",
            "bar_style": "success",
            "max": 1,
            "_view_module": "@jupyter-widgets/controls",
            "_model_module_version": "1.5.0",
            "value": 1,
            "_view_count": null,
            "_view_module_version": "1.5.0",
            "orientation": "horizontal",
            "min": 0,
            "description_tooltip": null,
            "_model_module": "@jupyter-widgets/controls",
            "layout": "IPY_MODEL_ae185b056f884a99afe119189580d579"
          }
        },
        "1eae7b9627ff4b9a8a7032995bb1fc13": {
          "model_module": "@jupyter-widgets/controls",
          "model_name": "HTMLModel",
          "state": {
            "_view_name": "HTMLView",
            "style": "IPY_MODEL_3effd7d83eec420fa50a56127d8ef6c7",
            "_dom_classes": [],
            "description": "",
            "_model_name": "HTMLModel",
            "placeholder": "​",
            "_view_module": "@jupyter-widgets/controls",
            "_model_module_version": "1.5.0",
            "value": " 1654784/? [00:00&lt;00:00, 3390891.76it/s]",
            "_view_count": null,
            "_view_module_version": "1.5.0",
            "description_tooltip": null,
            "_model_module": "@jupyter-widgets/controls",
            "layout": "IPY_MODEL_1beb0492d12d420590ddb2d46a069473"
          }
        },
        "966d12b5b2fb4eeab5eee8425346b5ad": {
          "model_module": "@jupyter-widgets/controls",
          "model_name": "ProgressStyleModel",
          "state": {
            "_view_name": "StyleView",
            "_model_name": "ProgressStyleModel",
            "description_width": "initial",
            "_view_module": "@jupyter-widgets/base",
            "_model_module_version": "1.5.0",
            "_view_count": null,
            "_view_module_version": "1.2.0",
            "bar_color": null,
            "_model_module": "@jupyter-widgets/controls"
          }
        },
        "ae185b056f884a99afe119189580d579": {
          "model_module": "@jupyter-widgets/base",
          "model_name": "LayoutModel",
          "state": {
            "_view_name": "LayoutView",
            "grid_template_rows": null,
            "right": null,
            "justify_content": null,
            "_view_module": "@jupyter-widgets/base",
            "overflow": null,
            "_model_module_version": "1.2.0",
            "_view_count": null,
            "flex_flow": null,
            "width": null,
            "min_width": null,
            "border": null,
            "align_items": null,
            "bottom": null,
            "_model_module": "@jupyter-widgets/base",
            "top": null,
            "grid_column": null,
            "overflow_y": null,
            "overflow_x": null,
            "grid_auto_flow": null,
            "grid_area": null,
            "grid_template_columns": null,
            "flex": null,
            "_model_name": "LayoutModel",
            "justify_items": null,
            "grid_row": null,
            "max_height": null,
            "align_content": null,
            "visibility": null,
            "align_self": null,
            "height": null,
            "min_height": null,
            "padding": null,
            "grid_auto_rows": null,
            "grid_gap": null,
            "max_width": null,
            "order": null,
            "_view_module_version": "1.2.0",
            "grid_template_areas": null,
            "object_position": null,
            "object_fit": null,
            "grid_auto_columns": null,
            "margin": null,
            "display": null,
            "left": null
          }
        },
        "3effd7d83eec420fa50a56127d8ef6c7": {
          "model_module": "@jupyter-widgets/controls",
          "model_name": "DescriptionStyleModel",
          "state": {
            "_view_name": "StyleView",
            "_model_name": "DescriptionStyleModel",
            "description_width": "",
            "_view_module": "@jupyter-widgets/base",
            "_model_module_version": "1.5.0",
            "_view_count": null,
            "_view_module_version": "1.2.0",
            "_model_module": "@jupyter-widgets/controls"
          }
        },
        "1beb0492d12d420590ddb2d46a069473": {
          "model_module": "@jupyter-widgets/base",
          "model_name": "LayoutModel",
          "state": {
            "_view_name": "LayoutView",
            "grid_template_rows": null,
            "right": null,
            "justify_content": null,
            "_view_module": "@jupyter-widgets/base",
            "overflow": null,
            "_model_module_version": "1.2.0",
            "_view_count": null,
            "flex_flow": null,
            "width": null,
            "min_width": null,
            "border": null,
            "align_items": null,
            "bottom": null,
            "_model_module": "@jupyter-widgets/base",
            "top": null,
            "grid_column": null,
            "overflow_y": null,
            "overflow_x": null,
            "grid_auto_flow": null,
            "grid_area": null,
            "grid_template_columns": null,
            "flex": null,
            "_model_name": "LayoutModel",
            "justify_items": null,
            "grid_row": null,
            "max_height": null,
            "align_content": null,
            "visibility": null,
            "align_self": null,
            "height": null,
            "min_height": null,
            "padding": null,
            "grid_auto_rows": null,
            "grid_gap": null,
            "max_width": null,
            "order": null,
            "_view_module_version": "1.2.0",
            "grid_template_areas": null,
            "object_position": null,
            "object_fit": null,
            "grid_auto_columns": null,
            "margin": null,
            "display": null,
            "left": null
          }
        },
        "fd1557bf5413479fa989631acc3a944e": {
          "model_module": "@jupyter-widgets/controls",
          "model_name": "HBoxModel",
          "state": {
            "_view_name": "HBoxView",
            "_dom_classes": [],
            "_model_name": "HBoxModel",
            "_view_module": "@jupyter-widgets/controls",
            "_model_module_version": "1.5.0",
            "_view_count": null,
            "_view_module_version": "1.5.0",
            "box_style": "",
            "layout": "IPY_MODEL_c7560e1c913c4537bb7453c39fa06da9",
            "_model_module": "@jupyter-widgets/controls",
            "children": [
              "IPY_MODEL_04faef84a4ab44cd8cab4f691114d72c",
              "IPY_MODEL_d9c1640099764977b30f030a57e5c7c0"
            ]
          }
        },
        "c7560e1c913c4537bb7453c39fa06da9": {
          "model_module": "@jupyter-widgets/base",
          "model_name": "LayoutModel",
          "state": {
            "_view_name": "LayoutView",
            "grid_template_rows": null,
            "right": null,
            "justify_content": null,
            "_view_module": "@jupyter-widgets/base",
            "overflow": null,
            "_model_module_version": "1.2.0",
            "_view_count": null,
            "flex_flow": null,
            "width": null,
            "min_width": null,
            "border": null,
            "align_items": null,
            "bottom": null,
            "_model_module": "@jupyter-widgets/base",
            "top": null,
            "grid_column": null,
            "overflow_y": null,
            "overflow_x": null,
            "grid_auto_flow": null,
            "grid_area": null,
            "grid_template_columns": null,
            "flex": null,
            "_model_name": "LayoutModel",
            "justify_items": null,
            "grid_row": null,
            "max_height": null,
            "align_content": null,
            "visibility": null,
            "align_self": null,
            "height": null,
            "min_height": null,
            "padding": null,
            "grid_auto_rows": null,
            "grid_gap": null,
            "max_width": null,
            "order": null,
            "_view_module_version": "1.2.0",
            "grid_template_areas": null,
            "object_position": null,
            "object_fit": null,
            "grid_auto_columns": null,
            "margin": null,
            "display": null,
            "left": null
          }
        },
        "04faef84a4ab44cd8cab4f691114d72c": {
          "model_module": "@jupyter-widgets/controls",
          "model_name": "FloatProgressModel",
          "state": {
            "_view_name": "ProgressView",
            "style": "IPY_MODEL_001d3b3494dd42c4aa0352ffc7b73c80",
            "_dom_classes": [],
            "description": "",
            "_model_name": "FloatProgressModel",
            "bar_style": "success",
            "max": 1,
            "_view_module": "@jupyter-widgets/controls",
            "_model_module_version": "1.5.0",
            "value": 1,
            "_view_count": null,
            "_view_module_version": "1.5.0",
            "orientation": "horizontal",
            "min": 0,
            "description_tooltip": null,
            "_model_module": "@jupyter-widgets/controls",
            "layout": "IPY_MODEL_0222c24df1f24b6b8ca64995f4530cd3"
          }
        },
        "d9c1640099764977b30f030a57e5c7c0": {
          "model_module": "@jupyter-widgets/controls",
          "model_name": "HTMLModel",
          "state": {
            "_view_name": "HTMLView",
            "style": "IPY_MODEL_31f93f7d1da04391a3ab24327c08120d",
            "_dom_classes": [],
            "description": "",
            "_model_name": "HTMLModel",
            "placeholder": "​",
            "_view_module": "@jupyter-widgets/controls",
            "_model_module_version": "1.5.0",
            "value": " 8192/? [00:00&lt;00:00, 29418.94it/s]",
            "_view_count": null,
            "_view_module_version": "1.5.0",
            "description_tooltip": null,
            "_model_module": "@jupyter-widgets/controls",
            "layout": "IPY_MODEL_079b5202fa9f4f70ab218b35b6f8be80"
          }
        },
        "001d3b3494dd42c4aa0352ffc7b73c80": {
          "model_module": "@jupyter-widgets/controls",
          "model_name": "ProgressStyleModel",
          "state": {
            "_view_name": "StyleView",
            "_model_name": "ProgressStyleModel",
            "description_width": "initial",
            "_view_module": "@jupyter-widgets/base",
            "_model_module_version": "1.5.0",
            "_view_count": null,
            "_view_module_version": "1.2.0",
            "bar_color": null,
            "_model_module": "@jupyter-widgets/controls"
          }
        },
        "0222c24df1f24b6b8ca64995f4530cd3": {
          "model_module": "@jupyter-widgets/base",
          "model_name": "LayoutModel",
          "state": {
            "_view_name": "LayoutView",
            "grid_template_rows": null,
            "right": null,
            "justify_content": null,
            "_view_module": "@jupyter-widgets/base",
            "overflow": null,
            "_model_module_version": "1.2.0",
            "_view_count": null,
            "flex_flow": null,
            "width": null,
            "min_width": null,
            "border": null,
            "align_items": null,
            "bottom": null,
            "_model_module": "@jupyter-widgets/base",
            "top": null,
            "grid_column": null,
            "overflow_y": null,
            "overflow_x": null,
            "grid_auto_flow": null,
            "grid_area": null,
            "grid_template_columns": null,
            "flex": null,
            "_model_name": "LayoutModel",
            "justify_items": null,
            "grid_row": null,
            "max_height": null,
            "align_content": null,
            "visibility": null,
            "align_self": null,
            "height": null,
            "min_height": null,
            "padding": null,
            "grid_auto_rows": null,
            "grid_gap": null,
            "max_width": null,
            "order": null,
            "_view_module_version": "1.2.0",
            "grid_template_areas": null,
            "object_position": null,
            "object_fit": null,
            "grid_auto_columns": null,
            "margin": null,
            "display": null,
            "left": null
          }
        },
        "31f93f7d1da04391a3ab24327c08120d": {
          "model_module": "@jupyter-widgets/controls",
          "model_name": "DescriptionStyleModel",
          "state": {
            "_view_name": "StyleView",
            "_model_name": "DescriptionStyleModel",
            "description_width": "",
            "_view_module": "@jupyter-widgets/base",
            "_model_module_version": "1.5.0",
            "_view_count": null,
            "_view_module_version": "1.2.0",
            "_model_module": "@jupyter-widgets/controls"
          }
        },
        "079b5202fa9f4f70ab218b35b6f8be80": {
          "model_module": "@jupyter-widgets/base",
          "model_name": "LayoutModel",
          "state": {
            "_view_name": "LayoutView",
            "grid_template_rows": null,
            "right": null,
            "justify_content": null,
            "_view_module": "@jupyter-widgets/base",
            "overflow": null,
            "_model_module_version": "1.2.0",
            "_view_count": null,
            "flex_flow": null,
            "width": null,
            "min_width": null,
            "border": null,
            "align_items": null,
            "bottom": null,
            "_model_module": "@jupyter-widgets/base",
            "top": null,
            "grid_column": null,
            "overflow_y": null,
            "overflow_x": null,
            "grid_auto_flow": null,
            "grid_area": null,
            "grid_template_columns": null,
            "flex": null,
            "_model_name": "LayoutModel",
            "justify_items": null,
            "grid_row": null,
            "max_height": null,
            "align_content": null,
            "visibility": null,
            "align_self": null,
            "height": null,
            "min_height": null,
            "padding": null,
            "grid_auto_rows": null,
            "grid_gap": null,
            "max_width": null,
            "order": null,
            "_view_module_version": "1.2.0",
            "grid_template_areas": null,
            "object_position": null,
            "object_fit": null,
            "grid_auto_columns": null,
            "margin": null,
            "display": null,
            "left": null
          }
        }
      }
    }
  },
  "cells": [
    {
      "cell_type": "markdown",
      "metadata": {
        "id": "eaws5VYd40gZ"
      },
      "source": [
        "# Mnist attempt\n"
      ]
    },
    {
      "cell_type": "markdown",
      "metadata": {
        "id": "UBZBIPk_57Tf"
      },
      "source": [
        "## 导入包"
      ]
    },
    {
      "cell_type": "code",
      "metadata": {
        "id": "imISyk3a47N1"
      },
      "source": [
        "import os\n",
        "import time\n",
        "\n",
        "import numpy as np\n",
        "import pandas as pd\n",
        "\n",
        "import torch \n",
        "import torch.nn as nn\n",
        "import torch.nn.functional as F\n",
        "from torch.utils.data import DataLoader                 \n",
        "import torchvision.transforms as transforms\n",
        "import torchvision.datasets as datasets\n",
        "import torchvision.utils as utils\n",
        "\n",
        "import matplotlib.pyplot as plt\n",
        "from PIL import Image\n",
        "\n",
        "\n",
        "#from torchvision.models import vgg16,vgg16_bn"
      ],
      "execution_count": 1,
      "outputs": []
    },
    {
      "cell_type": "markdown",
      "metadata": {
        "id": "5iWfIAv36B_t"
      },
      "source": [
        "## 启用显卡(if gpu exists)"
      ]
    },
    {
      "cell_type": "code",
      "metadata": {
        "id": "MWZ6BwNWF_WG",
        "outputId": "868077a9-bd98-408b-a10d-6b7d6d779fe2",
        "colab": {
          "base_uri": "https://localhost:8080/"
        }
      },
      "source": [
        "device = torch.device(\"cuda:0\" if torch.cuda.is_available() else \"cpu\")\n",
        "\n",
        "print(device)"
      ],
      "execution_count": 2,
      "outputs": [
        {
          "output_type": "stream",
          "text": [
            "cuda:0\n"
          ],
          "name": "stdout"
        }
      ]
    },
    {
      "cell_type": "markdown",
      "metadata": {
        "id": "x5D4RRyWN8yp"
      },
      "source": [
        "## 参数设置"
      ]
    },
    {
      "cell_type": "code",
      "metadata": {
        "id": "wu3KYqqq6Gw8"
      },
      "source": [
        "# 超参\n",
        "random_seed=1\n",
        "learning_rate=0.001\n",
        "batch_size=128\n",
        "num_epoch=10\n",
        "momentum=0.9\n",
        "\n",
        "num_features=32*32\n",
        "num_classes=10\n",
        "grayscale=True"
      ],
      "execution_count": 3,
      "outputs": []
    },
    {
      "cell_type": "markdown",
      "metadata": {
        "id": "wm1TFtC96DqJ"
      },
      "source": [
        "## 下载数据集"
      ]
    },
    {
      "cell_type": "code",
      "metadata": {
        "id": "6i2WKWwF40Ft",
        "outputId": "3a3178d3-64a2-4e8a-b188-7719385d1321",
        "colab": {
          "base_uri": "https://localhost:8080/",
          "height": 453,
          "referenced_widgets": [
            "1b77a8e169144731878155671b255ddf",
            "9b51e12015e04e96a9585bc974f53b9d",
            "eb28ffb299cc4944b25070f0aab047d0",
            "5ed63c430cbb4ea79d13163f1ead0651",
            "9eff74ed77544e6db7de5ec2178f844e",
            "aae8f515ca0d405c9664620890f98d56",
            "e7a4567f052648848c5dda042c7f57c8",
            "b1f70057e7a4447082f7da734f826576",
            "e2ec9131fed74293a0b4e256540fb6fa",
            "2ab2c34804f247b4811f4cce34f1af05",
            "32f874e5af164fc7a8cda586850f8b7a",
            "fa08be5c91324db89d214ae5341ce7ed",
            "a8a093c3e59445e0b7b44d47f2c94fb5",
            "5fd265741ddd4b05becb38288877bfec",
            "64faaa94d1e544a8ac594a58e11bc9e8",
            "8932ad659a52466cbae6c58ee848ecc5",
            "ef0f31eb6a10418e927e10530cd48a5e",
            "159f47fe46504e6aae0ed0cdf5c3820d",
            "6d57ee40fe2d4cc6a9322ee9a1d2a954",
            "1eae7b9627ff4b9a8a7032995bb1fc13",
            "966d12b5b2fb4eeab5eee8425346b5ad",
            "ae185b056f884a99afe119189580d579",
            "3effd7d83eec420fa50a56127d8ef6c7",
            "1beb0492d12d420590ddb2d46a069473",
            "fd1557bf5413479fa989631acc3a944e",
            "c7560e1c913c4537bb7453c39fa06da9",
            "04faef84a4ab44cd8cab4f691114d72c",
            "d9c1640099764977b30f030a57e5c7c0",
            "001d3b3494dd42c4aa0352ffc7b73c80",
            "0222c24df1f24b6b8ca64995f4530cd3",
            "31f93f7d1da04391a3ab24327c08120d",
            "079b5202fa9f4f70ab218b35b6f8be80"
          ]
        }
      },
      "source": [
        "transform=transforms.Compose([transforms.Resize((32,32)),\n",
        "                              transforms.ToTensor()])\n",
        "\n",
        "train_dataset=datasets.MNIST(root='./data',\n",
        "                             train=True,\n",
        "                             transform=transform,\n",
        "                             download=True)\n",
        "\n",
        "test_dataset=datasets.MNIST(root='./data',\n",
        "                            train=False,\n",
        "                            transform=transform,\n",
        "                            download=True)\n",
        "\n",
        "train_loader=DataLoader(dataset=train_dataset,\n",
        "                        batch_size=batch_size,\n",
        "                        shuffle=True)\n",
        "\n",
        "test_loader=DataLoader(dataset=test_dataset,\n",
        "                       batch_size=batch_size,\n",
        "                       shuffle=False)\n",
        "\n",
        "\n",
        "for images,labels in train_loader:\n",
        "    print(\"image batch dimensions:\",images.shape)\n",
        "    print(\"image label dimensions:\",labels.shape)\n",
        "    break"
      ],
      "execution_count": 4,
      "outputs": [
        {
          "output_type": "stream",
          "text": [
            "Downloading http://yann.lecun.com/exdb/mnist/train-images-idx3-ubyte.gz to ./data/MNIST/raw/train-images-idx3-ubyte.gz\n"
          ],
          "name": "stdout"
        },
        {
          "output_type": "display_data",
          "data": {
            "application/vnd.jupyter.widget-view+json": {
              "model_id": "1b77a8e169144731878155671b255ddf",
              "version_minor": 0,
              "version_major": 2
            },
            "text/plain": [
              "HBox(children=(FloatProgress(value=1.0, bar_style='info', max=1.0), HTML(value='')))"
            ]
          },
          "metadata": {
            "tags": []
          }
        },
        {
          "output_type": "stream",
          "text": [
            "Extracting ./data/MNIST/raw/train-images-idx3-ubyte.gz to ./data/MNIST/raw\n",
            "Downloading http://yann.lecun.com/exdb/mnist/train-labels-idx1-ubyte.gz to ./data/MNIST/raw/train-labels-idx1-ubyte.gz\n"
          ],
          "name": "stdout"
        },
        {
          "output_type": "display_data",
          "data": {
            "application/vnd.jupyter.widget-view+json": {
              "model_id": "e2ec9131fed74293a0b4e256540fb6fa",
              "version_minor": 0,
              "version_major": 2
            },
            "text/plain": [
              "HBox(children=(FloatProgress(value=1.0, bar_style='info', max=1.0), HTML(value='')))"
            ]
          },
          "metadata": {
            "tags": []
          }
        },
        {
          "output_type": "stream",
          "text": [
            "Extracting ./data/MNIST/raw/train-labels-idx1-ubyte.gz to ./data/MNIST/raw\n",
            "Downloading http://yann.lecun.com/exdb/mnist/t10k-images-idx3-ubyte.gz to ./data/MNIST/raw/t10k-images-idx3-ubyte.gz\n"
          ],
          "name": "stdout"
        },
        {
          "output_type": "display_data",
          "data": {
            "application/vnd.jupyter.widget-view+json": {
              "model_id": "ef0f31eb6a10418e927e10530cd48a5e",
              "version_minor": 0,
              "version_major": 2
            },
            "text/plain": [
              "HBox(children=(FloatProgress(value=1.0, bar_style='info', max=1.0), HTML(value='')))"
            ]
          },
          "metadata": {
            "tags": []
          }
        },
        {
          "output_type": "stream",
          "text": [
            "Extracting ./data/MNIST/raw/t10k-images-idx3-ubyte.gz to ./data/MNIST/raw\n",
            "Downloading http://yann.lecun.com/exdb/mnist/t10k-labels-idx1-ubyte.gz to ./data/MNIST/raw/t10k-labels-idx1-ubyte.gz\n"
          ],
          "name": "stdout"
        },
        {
          "output_type": "display_data",
          "data": {
            "application/vnd.jupyter.widget-view+json": {
              "model_id": "fd1557bf5413479fa989631acc3a944e",
              "version_minor": 0,
              "version_major": 2
            },
            "text/plain": [
              "HBox(children=(FloatProgress(value=1.0, bar_style='info', max=1.0), HTML(value='')))"
            ]
          },
          "metadata": {
            "tags": []
          }
        },
        {
          "output_type": "stream",
          "text": [
            "Extracting ./data/MNIST/raw/t10k-labels-idx1-ubyte.gz to ./data/MNIST/raw\n",
            "Processing...\n",
            "Done!\n"
          ],
          "name": "stdout"
        },
        {
          "output_type": "stream",
          "text": [
            "/usr/local/lib/python3.6/dist-packages/torchvision/datasets/mnist.py:480: UserWarning: The given NumPy array is not writeable, and PyTorch does not support non-writeable tensors. This means you can write to the underlying (supposedly non-writeable) NumPy array using the tensor. You may want to copy the array to protect its data or make it writeable before converting it to a tensor. This type of warning will be suppressed for the rest of this program. (Triggered internally at  /pytorch/torch/csrc/utils/tensor_numpy.cpp:141.)\n",
            "  return torch.from_numpy(parsed.astype(m[2], copy=False)).view(*s)\n"
          ],
          "name": "stderr"
        },
        {
          "output_type": "stream",
          "text": [
            "\n",
            "\n",
            "image batch dimensions: torch.Size([128, 1, 32, 32])\n",
            "image label dimensions: torch.Size([128])\n"
          ],
          "name": "stdout"
        }
      ]
    },
    {
      "cell_type": "markdown",
      "metadata": {
        "id": "6MOMYp4kF3xk"
      },
      "source": [
        "## vgg16"
      ]
    },
    {
      "cell_type": "markdown",
      "metadata": {
        "id": "KflJtCMgD6YJ"
      },
      "source": [
        "\n",
        "~~trainmodel=vgg16()~~\n",
        "~~print(trainmodel)~~\n",
        "\n",
        "VGG( \\\n",
        "  (features): Sequential( \\\n",
        "    (0): Conv2d(3, 64, kernel_size=(3, 3), stride=(1, 1), padding=(1, 1)) \\\n",
        "    (1): ReLU(inplace=True) \\\n",
        "    (2): Conv2d(64, 64, kernel_size=(3, 3), stride=(1, 1), padding=(1, 1)) \\\n",
        "    (3): ReLU(inplace=True) \\\n",
        "    (4): MaxPool2d(kernel_size=2, stride=2, padding=0, dilation=1, ceil_mode=False) \\\n",
        "    (5): Conv2d(64, 128, kernel_size=(3, 3), stride=(1, 1), padding=(1, 1)) \\\n",
        "    (6): ReLU(inplace=True) \\\n",
        "    (7): Conv2d(128, 128, kernel_size=(3, 3), stride=(1, 1), padding=(1, 1)) \\\n",
        "    (8): ReLU(inplace=True) \\\n",
        "    (9): MaxPool2d(kernel_size=2, stride=2, padding=0, dilation=1, ceil_mode=False)  \\ \n",
        "    (10): Conv2d(128, 256, kernel_size=(3, 3), stride=(1, 1), padding=(1, 1))  \\\n",
        "    (11): ReLU(inplace=True)  \\\n",
        "    (12): Conv2d(256, 256, kernel_size=(3, 3), stride=(1, 1), padding=(1, 1)) \\\n",
        "    (13): ReLU(inplace=True)  \\ \n",
        "    (14): Conv2d(256, 256, kernel_size=(3, 3), stride=(1, 1), padding=(1, 1)) \\\n",
        "    (15): ReLU(inplace=True) \\\n",
        "    (16): MaxPool2d(kernel_size=2, stride=2, padding=0, dilation=1, ceil_mode=False) \\ \n",
        "    (17): Conv2d(256, 512, kernel_size=(3, 3), stride=(1, 1), padding=(1, 1)) \\\n",
        "    (18): ReLU(inplace=True) \\ \n",
        "    (19): Conv2d(512, 512, kernel_size=(3, 3), stride=(1, 1), padding=(1, 1)) \\\n",
        "    (20): ReLU(inplace=True) \\\n",
        "    (21): Conv2d(512, 512, kernel_size=(3, 3), stride=(1, 1), padding=(1, 1)) \\\n",
        "    (22): ReLU(inplace=True) \\\n",
        "    (23): MaxPool2d(kernel_size=2, stride=2, padding=0, dilation=1, ceil_mode=False) \\\n",
        "    (24): Conv2d(512, 512, kernel_size=(3, 3), stride=(1, 1), padding=(1, 1)) \\\n",
        "    (25): ReLU(inplace=True) \\\n",
        "    (26): Conv2d(512, 512, kernel_size=(3, 3), stride=(1, 1), padding=(1, 1)) \\\n",
        "    (27): ReLU(inplace=True) \\\n",
        "    (28): Conv2d(512, 512, kernel_size=(3, 3), stride=(1, 1), padding=(1, 1)) \\ \n",
        "    (29): ReLU(inplace=True) \\\n",
        "    (30): MaxPool2d(kernel_size=2, stride=2, padding=0, dilation=1, ceil_mode=False) \\\n",
        "  )   \n",
        "     \n",
        "  (avgpool): AdaptiveAvgPool2d(output_size=(7, 7)) \\\n",
        "     \n",
        "  (classifier): Sequential( \\\n",
        "    (0): Linear(in_features=25088, out_features=4096, bias=True) \\\n",
        "    (1): ReLU(inplace=True) \\\n",
        "    (2): Dropout(p=0.5, inplace=False) \\\n",
        "    (3): Linear(in_features=4096, out_features=4096, bias=True) \\\n",
        "    (4): ReLU(inplace=True) \\\n",
        "    (5): Dropout(p=0.5, inplace=False)   \n",
        "    (6): Linear(in_features=4096, out_features=1000, bias=True)   \n",
        " )   \n",
        ")"
      ]
    },
    {
      "cell_type": "markdown",
      "metadata": {
        "id": "0jRQpg546D0N"
      },
      "source": [
        "## 实现类"
      ]
    },
    {
      "cell_type": "code",
      "metadata": {
        "id": "E47goUcw9_n9"
      },
      "source": [
        "class Net(nn.Module):\n",
        "\n",
        "    def __init__(self,num_classes,grayscale=False):\n",
        "      super(Net,self).__init__()\n",
        "      \n",
        "      self.grayscale=grayscale\n",
        "      self.num_classes=num_classes\n",
        "\n",
        "      if self.grayscale:\n",
        "        input_channels=1\n",
        "      else:\n",
        "        input_channels=3\n",
        "      \n",
        "      self.features=nn.Sequential(\n",
        "          nn.Conv2d(input_channels,6,kernel_size=5),\n",
        "          nn.ReLU(),\n",
        "          nn.MaxPool2d(kernel_size=2),\n",
        "          nn.Conv2d(6,16,kernel_size=5),\n",
        "          nn.ReLU(),\n",
        "          nn.MaxPool2d(kernel_size=2)\n",
        "      )\n",
        "      \n",
        "      self.classifier=nn.Sequential(\n",
        "          nn.Linear(16*5*5,120),\n",
        "          nn.ReLU(),\n",
        "          nn.Linear(120,84),\n",
        "          nn.ReLU(),\n",
        "          nn.Linear(84,num_classes),\n",
        "      )\n",
        "\n",
        "    def forward(self,x):\n",
        "          x=self.features(x)\n",
        "          x=torch.flatten(x,1)\n",
        "          logits=self.classifier(x)\n",
        "          probas=F.softmax(logits,dim=1)\n",
        "          return logits,probas"
      ],
      "execution_count": 5,
      "outputs": []
    },
    {
      "cell_type": "code",
      "metadata": {
        "id": "Zyb-FCPpJ7Ja"
      },
      "source": [
        "torch.manual_seed(random_seed)\n",
        "net=Net(num_classes,grayscale)\n",
        "net.to(device)\n",
        "\n",
        "#optimizer=torch.optim.Adam(net.parameters(),lr=learning_rate)    #adam优化\n",
        "optimizer=torch.optim.SGD(net.parameters(),lr=learning_rate,momentum=momentum)"
      ],
      "execution_count": 6,
      "outputs": []
    },
    {
      "cell_type": "markdown",
      "metadata": {
        "id": "KbSB99G36D7B"
      },
      "source": [
        "## 训练"
      ]
    },
    {
      "cell_type": "code",
      "metadata": {
        "id": "F2UlYWEzQ7g8",
        "outputId": "d6880d75-509a-4e38-a07a-41581db2e181",
        "colab": {
          "base_uri": "https://localhost:8080/"
        }
      },
      "source": [
        "def compute_accuracy(net,data_loader,device):\n",
        "  correct_pred,num_sample=0,0\n",
        "  for i,data in enumerate(data_loader,0):\n",
        "    images,labels=data[0].to(device),data[1].to(device)\n",
        "\n",
        "    output,probas=net(images)\n",
        "    _,predicted_labels=torch.max(probas,1)\n",
        "    num_sample+=labels.size(0)\n",
        "    correct_pred+=(predicted_labels==labels).sum()\n",
        "  return correct_pred.float()/num_sample*100\n",
        "\n",
        "\n",
        "start_time=time.time()\n",
        "tmp=time.time()\n",
        "for epoch in range(num_epoch):\n",
        "\n",
        "    net.train()\n",
        "\n",
        "    for  batch_idx,data in enumerate(train_loader,0):\n",
        "      inputs,labels=data[0].to(device),data[1].to(device)\n",
        "\n",
        "      output,probas=net(inputs)           #forward\n",
        "\n",
        "      loss=F.cross_entropy(output,labels)\n",
        "      optimizer.zero_grad()\n",
        "\n",
        "      loss.backward()\n",
        "      optimizer.step()\n",
        "\n",
        "      if not batch_idx % 50:\n",
        "        print('Epoch:%03d/%03d   | Batch Blocks: %4d/%4d   | Loss:%.3f'%(\n",
        "            epoch+1,num_epoch,batch_idx,\n",
        "            len(train_loader),loss\n",
        "        ))\n",
        "\n",
        "    net.eval() \n",
        "    with torch.set_grad_enabled(False):\n",
        "      print('Epoch: %03d/%03d   | Train: %.3f%%'%(\n",
        "        epoch+1,num_epoch,\n",
        "        compute_accuracy(net,train_loader,device=device)\n",
        "      ))   \n",
        "    print('Time consume: %.2f min'%((time.time()-tmp)/60))\n",
        "    tmp=time.time()\n",
        "\n",
        "print('total Time: %.2f min'%(\n",
        "    (time.time()-start_time)/60\n",
        "    )\n",
        ")"
      ],
      "execution_count": 7,
      "outputs": [
        {
          "output_type": "stream",
          "text": [
            "Epoch:001/010   | Batch Blocks:    0/ 469   | Loss:2.301\n",
            "Epoch:001/010   | Batch Blocks:   50/ 469   | Loss:2.296\n",
            "Epoch:001/010   | Batch Blocks:  100/ 469   | Loss:2.307\n",
            "Epoch:001/010   | Batch Blocks:  150/ 469   | Loss:2.297\n",
            "Epoch:001/010   | Batch Blocks:  200/ 469   | Loss:2.294\n",
            "Epoch:001/010   | Batch Blocks:  250/ 469   | Loss:2.292\n",
            "Epoch:001/010   | Batch Blocks:  300/ 469   | Loss:2.290\n",
            "Epoch:001/010   | Batch Blocks:  350/ 469   | Loss:2.294\n",
            "Epoch:001/010   | Batch Blocks:  400/ 469   | Loss:2.281\n",
            "Epoch:001/010   | Batch Blocks:  450/ 469   | Loss:2.265\n",
            "Epoch: 001/010   | Train: 34.027%\n",
            "Time consume: 0.23 min\n",
            "Epoch:002/010   | Batch Blocks:    0/ 469   | Loss:2.269\n",
            "Epoch:002/010   | Batch Blocks:   50/ 469   | Loss:2.256\n",
            "Epoch:002/010   | Batch Blocks:  100/ 469   | Loss:2.231\n",
            "Epoch:002/010   | Batch Blocks:  150/ 469   | Loss:2.225\n",
            "Epoch:002/010   | Batch Blocks:  200/ 469   | Loss:2.093\n",
            "Epoch:002/010   | Batch Blocks:  250/ 469   | Loss:2.010\n",
            "Epoch:002/010   | Batch Blocks:  300/ 469   | Loss:1.784\n",
            "Epoch:002/010   | Batch Blocks:  350/ 469   | Loss:1.307\n",
            "Epoch:002/010   | Batch Blocks:  400/ 469   | Loss:0.858\n",
            "Epoch:002/010   | Batch Blocks:  450/ 469   | Loss:0.815\n",
            "Epoch: 002/010   | Train: 80.517%\n",
            "Time consume: 0.23 min\n",
            "Epoch:003/010   | Batch Blocks:    0/ 469   | Loss:0.649\n",
            "Epoch:003/010   | Batch Blocks:   50/ 469   | Loss:0.593\n",
            "Epoch:003/010   | Batch Blocks:  100/ 469   | Loss:0.511\n",
            "Epoch:003/010   | Batch Blocks:  150/ 469   | Loss:0.361\n",
            "Epoch:003/010   | Batch Blocks:  200/ 469   | Loss:0.343\n",
            "Epoch:003/010   | Batch Blocks:  250/ 469   | Loss:0.613\n",
            "Epoch:003/010   | Batch Blocks:  300/ 469   | Loss:0.468\n",
            "Epoch:003/010   | Batch Blocks:  350/ 469   | Loss:0.547\n",
            "Epoch:003/010   | Batch Blocks:  400/ 469   | Loss:0.367\n",
            "Epoch:003/010   | Batch Blocks:  450/ 469   | Loss:0.387\n",
            "Epoch: 003/010   | Train: 89.380%\n",
            "Time consume: 0.21 min\n",
            "Epoch:004/010   | Batch Blocks:    0/ 469   | Loss:0.283\n",
            "Epoch:004/010   | Batch Blocks:   50/ 469   | Loss:0.351\n",
            "Epoch:004/010   | Batch Blocks:  100/ 469   | Loss:0.218\n",
            "Epoch:004/010   | Batch Blocks:  150/ 469   | Loss:0.318\n",
            "Epoch:004/010   | Batch Blocks:  200/ 469   | Loss:0.252\n",
            "Epoch:004/010   | Batch Blocks:  250/ 469   | Loss:0.349\n",
            "Epoch:004/010   | Batch Blocks:  300/ 469   | Loss:0.328\n",
            "Epoch:004/010   | Batch Blocks:  350/ 469   | Loss:0.224\n",
            "Epoch:004/010   | Batch Blocks:  400/ 469   | Loss:0.352\n",
            "Epoch:004/010   | Batch Blocks:  450/ 469   | Loss:0.266\n",
            "Epoch: 004/010   | Train: 91.807%\n",
            "Time consume: 0.21 min\n",
            "Epoch:005/010   | Batch Blocks:    0/ 469   | Loss:0.226\n",
            "Epoch:005/010   | Batch Blocks:   50/ 469   | Loss:0.287\n",
            "Epoch:005/010   | Batch Blocks:  100/ 469   | Loss:0.238\n",
            "Epoch:005/010   | Batch Blocks:  150/ 469   | Loss:0.288\n",
            "Epoch:005/010   | Batch Blocks:  200/ 469   | Loss:0.239\n",
            "Epoch:005/010   | Batch Blocks:  250/ 469   | Loss:0.229\n",
            "Epoch:005/010   | Batch Blocks:  300/ 469   | Loss:0.170\n",
            "Epoch:005/010   | Batch Blocks:  350/ 469   | Loss:0.287\n",
            "Epoch:005/010   | Batch Blocks:  400/ 469   | Loss:0.240\n",
            "Epoch:005/010   | Batch Blocks:  450/ 469   | Loss:0.110\n",
            "Epoch: 005/010   | Train: 93.287%\n",
            "Time consume: 0.21 min\n",
            "Epoch:006/010   | Batch Blocks:    0/ 469   | Loss:0.172\n",
            "Epoch:006/010   | Batch Blocks:   50/ 469   | Loss:0.129\n",
            "Epoch:006/010   | Batch Blocks:  100/ 469   | Loss:0.152\n",
            "Epoch:006/010   | Batch Blocks:  150/ 469   | Loss:0.325\n",
            "Epoch:006/010   | Batch Blocks:  200/ 469   | Loss:0.214\n",
            "Epoch:006/010   | Batch Blocks:  250/ 469   | Loss:0.157\n",
            "Epoch:006/010   | Batch Blocks:  300/ 469   | Loss:0.151\n",
            "Epoch:006/010   | Batch Blocks:  350/ 469   | Loss:0.182\n",
            "Epoch:006/010   | Batch Blocks:  400/ 469   | Loss:0.242\n",
            "Epoch:006/010   | Batch Blocks:  450/ 469   | Loss:0.295\n",
            "Epoch: 006/010   | Train: 93.878%\n",
            "Time consume: 0.21 min\n",
            "Epoch:007/010   | Batch Blocks:    0/ 469   | Loss:0.161\n",
            "Epoch:007/010   | Batch Blocks:   50/ 469   | Loss:0.152\n",
            "Epoch:007/010   | Batch Blocks:  100/ 469   | Loss:0.134\n",
            "Epoch:007/010   | Batch Blocks:  150/ 469   | Loss:0.088\n",
            "Epoch:007/010   | Batch Blocks:  200/ 469   | Loss:0.178\n",
            "Epoch:007/010   | Batch Blocks:  250/ 469   | Loss:0.235\n",
            "Epoch:007/010   | Batch Blocks:  300/ 469   | Loss:0.159\n",
            "Epoch:007/010   | Batch Blocks:  350/ 469   | Loss:0.147\n",
            "Epoch:007/010   | Batch Blocks:  400/ 469   | Loss:0.236\n",
            "Epoch:007/010   | Batch Blocks:  450/ 469   | Loss:0.135\n",
            "Epoch: 007/010   | Train: 95.543%\n",
            "Time consume: 0.22 min\n",
            "Epoch:008/010   | Batch Blocks:    0/ 469   | Loss:0.164\n",
            "Epoch:008/010   | Batch Blocks:   50/ 469   | Loss:0.119\n",
            "Epoch:008/010   | Batch Blocks:  100/ 469   | Loss:0.118\n",
            "Epoch:008/010   | Batch Blocks:  150/ 469   | Loss:0.140\n",
            "Epoch:008/010   | Batch Blocks:  200/ 469   | Loss:0.218\n",
            "Epoch:008/010   | Batch Blocks:  250/ 469   | Loss:0.162\n",
            "Epoch:008/010   | Batch Blocks:  300/ 469   | Loss:0.114\n",
            "Epoch:008/010   | Batch Blocks:  350/ 469   | Loss:0.136\n",
            "Epoch:008/010   | Batch Blocks:  400/ 469   | Loss:0.209\n",
            "Epoch:008/010   | Batch Blocks:  450/ 469   | Loss:0.182\n",
            "Epoch: 008/010   | Train: 95.915%\n",
            "Time consume: 0.22 min\n",
            "Epoch:009/010   | Batch Blocks:    0/ 469   | Loss:0.156\n",
            "Epoch:009/010   | Batch Blocks:   50/ 469   | Loss:0.092\n",
            "Epoch:009/010   | Batch Blocks:  100/ 469   | Loss:0.163\n",
            "Epoch:009/010   | Batch Blocks:  150/ 469   | Loss:0.122\n",
            "Epoch:009/010   | Batch Blocks:  200/ 469   | Loss:0.255\n",
            "Epoch:009/010   | Batch Blocks:  250/ 469   | Loss:0.174\n",
            "Epoch:009/010   | Batch Blocks:  300/ 469   | Loss:0.107\n",
            "Epoch:009/010   | Batch Blocks:  350/ 469   | Loss:0.122\n",
            "Epoch:009/010   | Batch Blocks:  400/ 469   | Loss:0.059\n",
            "Epoch:009/010   | Batch Blocks:  450/ 469   | Loss:0.126\n",
            "Epoch: 009/010   | Train: 96.415%\n",
            "Time consume: 0.22 min\n",
            "Epoch:010/010   | Batch Blocks:    0/ 469   | Loss:0.058\n",
            "Epoch:010/010   | Batch Blocks:   50/ 469   | Loss:0.080\n",
            "Epoch:010/010   | Batch Blocks:  100/ 469   | Loss:0.156\n",
            "Epoch:010/010   | Batch Blocks:  150/ 469   | Loss:0.056\n",
            "Epoch:010/010   | Batch Blocks:  200/ 469   | Loss:0.118\n",
            "Epoch:010/010   | Batch Blocks:  250/ 469   | Loss:0.098\n",
            "Epoch:010/010   | Batch Blocks:  300/ 469   | Loss:0.086\n",
            "Epoch:010/010   | Batch Blocks:  350/ 469   | Loss:0.217\n",
            "Epoch:010/010   | Batch Blocks:  400/ 469   | Loss:0.125\n",
            "Epoch:010/010   | Batch Blocks:  450/ 469   | Loss:0.206\n",
            "Epoch: 010/010   | Train: 96.382%\n",
            "Time consume: 0.21 min\n",
            "total Time: 2.18 min\n"
          ],
          "name": "stdout"
        }
      ]
    },
    {
      "cell_type": "markdown",
      "metadata": {
        "id": "8oU48YoV6EB6"
      },
      "source": [
        "# 测试"
      ]
    },
    {
      "cell_type": "code",
      "metadata": {
        "id": "13Vh5k9nr7ut",
        "outputId": "0f59c312-62fb-4a6c-eaf1-3143920db85a",
        "colab": {
          "base_uri": "https://localhost:8080/"
        }
      },
      "source": [
        "with torch.set_grad_enabled(False):\n",
        "  print('Test accutacy: %.2f%% '%(compute_accuracy(net,test_loader,device=device)))"
      ],
      "execution_count": 8,
      "outputs": [
        {
          "output_type": "stream",
          "text": [
            "Test accutacy: 96.86% \n"
          ],
          "name": "stdout"
        }
      ]
    },
    {
      "cell_type": "markdown",
      "metadata": {
        "id": "Ml2FoYLX0tFm"
      },
      "source": [
        "## 保存模型"
      ]
    },
    {
      "cell_type": "code",
      "metadata": {
        "id": "uVzQQy970sIz"
      },
      "source": [
        "PATH='./mnist_attempt.pth'\n",
        "torch.save(net.state_dict(),PATH)"
      ],
      "execution_count": 11,
      "outputs": []
    },
    {
      "cell_type": "markdown",
      "metadata": {
        "id": "hffOtbQj6EH3"
      },
      "source": [
        "### 显示测试"
      ]
    },
    {
      "cell_type": "code",
      "metadata": {
        "id": "YEwcpiLgY8vs",
        "outputId": "7308d27e-3121-4dcf-cbbe-c020e986d53d",
        "colab": {
          "base_uri": "https://localhost:8080/",
          "height": 185
        }
      },
      "source": [
        "import torchvision\n",
        "classes=('0','1','2','3','4','5','6','7','8','9')\n",
        "nums=8\n",
        "\n",
        "dataiter=iter(test_loader)\n",
        "images,labels=dataiter.next()\n",
        "\n",
        "net=Net(num_classes,grayscale)\n",
        "net.to(device)\n",
        "net.load_state_dict(torch.load(PATH))\n",
        "net.eval()\n",
        "outputs,probas=net(images.to(device))\n",
        "with torch.set_grad_enabled(False):\n",
        "    _, predicted = torch.max(probas, 1)\n",
        "\n",
        "images=torchvision.utils.make_grid(images[:nums])\n",
        "img=images.numpy()\n",
        "plt.imshow(img.transpose(1,2,0))\n",
        "plt.show()\n",
        "\n",
        "_,predicted=torch.max(outputs,1)\n",
        "print('predict the Number is: \\n')\n",
        "print(' '.join('%12s'%classes[predicted[i]]\n",
        "               for i in range(nums)\n",
        "               )\n",
        ")\n",
        "print('Predicted:\\n ', ' '.join('%12s' % classes[predicted[j]]\n",
        "                              for j in range(nums)))"
      ],
      "execution_count": 21,
      "outputs": [
        {
          "output_type": "display_data",
          "data": {
            "image/png": "[encoded data removed]",
            "text/plain": [
              "<Figure size 432x288 with 1 Axes>"
            ]
          },
          "metadata": {
            "tags": [],
            "needs_background": "light"
          }
        },
        {
          "output_type": "stream",
          "text": [
            "predict the Number is: \n",
            "\n",
            "           7            2            1            0            4            1            4            9\n",
            "Predicted:\n",
            "             7            2            1            0            4            1            4            9\n"
          ],
          "name": "stdout"
        }
      ]
    },
    {
      "cell_type": "code",
      "metadata": {
        "id": "LQbaFBhtrVOk",
        "outputId": "2f351bc9-0bee-4647-f6ce-cd5bab14e91c",
        "colab": {
          "base_uri": "https://localhost:8080/",
          "height": 284
        }
      },
      "source": [
        "dataiter=iter(train_loader)\n",
        "images,labels=dataiter.next()\n",
        "img=images[0].numpy()\n",
        "plt.imshow(img.reshape(32,32),cmap='gray_r')\n",
        "plt.show()\n",
        "print('predict the Number is: %s'%(classes[labels[0]]))"
      ],
      "execution_count": 22,
      "outputs": [
        {
          "output_type": "display_data",
          "data": {
            "image/png": "[encoded data removed]",
            "text/plain": [
              "<Figure size 432x288 with 1 Axes>"
            ]
          },
          "metadata": {
            "tags": [],
            "needs_background": "light"
          }
        },
        {
          "output_type": "stream",
          "text": [
            "predict the Number is: 7\n"
          ],
          "name": "stdout"
        }
      ]
    }
  ]
}